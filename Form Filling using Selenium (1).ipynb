{
 "cells": [
  {
   "cell_type": "code",
   "execution_count": 1,
   "id": "c179e96a",
   "metadata": {},
   "outputs": [
    {
     "name": "stderr",
     "output_type": "stream",
     "text": [
      "C:\\Users\\dsandpa\\AppData\\Local\\Temp/ipykernel_25096/32311111.py:7: DeprecationWarning: executable_path has been deprecated, please pass in a Service object\n",
      "  driver=webdriver.Chrome(r'C:\\SeleniumDriver\\chromedriver.exe')\n"
     ]
    }
   ],
   "source": [
    "import os\n",
    "from selenium import webdriver\n",
    "from selenium.webdriver.common.by import By\n",
    "from selenium.webdriver.chrome.service import Service\n",
    "\n",
    "\n",
    "driver=webdriver.Chrome(r'C:\\SeleniumDriver\\chromedriver.exe')\n",
    "\n",
    "driver.get(\"https://www.thegoldbugs.com/\")"
   ]
  },
  {
   "cell_type": "code",
   "execution_count": 2,
   "id": "76c61474",
   "metadata": {},
   "outputs": [],
   "source": [
    "form_element=driver.find_element(By.TAG_NAME,'form')"
   ]
  },
  {
   "cell_type": "code",
   "execution_count": 3,
   "id": "08c0c582",
   "metadata": {},
   "outputs": [],
   "source": [
    "first_name=driver.find_element(By.NAME,'fname')\n",
    "\n",
    "first_name.send_keys('Sandipan')"
   ]
  },
  {
   "cell_type": "code",
   "execution_count": 4,
   "id": "4cc7c612",
   "metadata": {},
   "outputs": [],
   "source": [
    "last_name=driver.find_element(By.NAME,'lname')\n",
    "\n",
    "last_name.send_keys('Das')"
   ]
  },
  {
   "cell_type": "code",
   "execution_count": 5,
   "id": "62fd61d1",
   "metadata": {},
   "outputs": [],
   "source": [
    "email_id=driver.find_element(By.NAME,'email')\n",
    "\n",
    "email_id.send_keys('dassandipan9080@gmail.com')"
   ]
  },
  {
   "cell_type": "code",
   "execution_count": 6,
   "id": "3584591b",
   "metadata": {},
   "outputs": [],
   "source": [
    "subject=driver.find_element(By.ID,'text-yui_3_17_2_1_1664570076619_2729-field')\n",
    "\n",
    "subject.send_keys('Degree of love')"
   ]
  },
  {
   "cell_type": "code",
   "execution_count": 7,
   "id": "a9c9e5fa",
   "metadata": {},
   "outputs": [],
   "source": [
    "message=driver.find_element(By.ID,'textarea-yui_3_17_2_1_1664570076619_2730-field')\n",
    "\n",
    "message.send_keys('We love you')"
   ]
  },
  {
   "cell_type": "code",
   "execution_count": 8,
   "id": "b3e87e6a",
   "metadata": {},
   "outputs": [],
   "source": [
    "option=driver.find_element(By.ID,'checkbox-b5b9cc19-24e5-4c8c-960a-055837723942')"
   ]
  },
  {
   "cell_type": "code",
   "execution_count": 9,
   "id": "ba42678a",
   "metadata": {},
   "outputs": [],
   "source": [
    "option1=driver.find_element(By.NAME,'checkbox-b5b9cc19-24e5-4c8c-960a-055837723942-field')\n"
   ]
  },
  {
   "cell_type": "code",
   "execution_count": 10,
   "id": "d5292237",
   "metadata": {},
   "outputs": [],
   "source": [
    "option1.click()"
   ]
  },
  {
   "cell_type": "code",
   "execution_count": 11,
   "id": "516e3fc1",
   "metadata": {},
   "outputs": [],
   "source": [
    "attend_button=driver.find_element(By.XPATH,'/html/body/div/div[3]/main/div/div[4]/div/div/div/div/div/div/div[2]/div/div/div/form/div[1]/fieldset[3]')\n"
   ]
  },
  {
   "cell_type": "code",
   "execution_count": 12,
   "id": "f70f6617",
   "metadata": {},
   "outputs": [],
   "source": [
    "attend_button1=attend_button.find_element(By.XPATH,'/html/body/div/div[3]/main/div/div[4]/div/div/div/div/div/div/div[2]/div/div/div/form/div[1]/fieldset[3]/div[1]/label/input')"
   ]
  },
  {
   "cell_type": "code",
   "execution_count": 13,
   "id": "7a5f0dda",
   "metadata": {},
   "outputs": [],
   "source": [
    "attend_button1.click()"
   ]
  },
  {
   "cell_type": "code",
   "execution_count": 14,
   "id": "be1b8ef4",
   "metadata": {},
   "outputs": [],
   "source": [
    "hear_button=driver.find_element(By.ID,'select-e1f50715-c8a7-48eb-bc99-2c245676068c')"
   ]
  },
  {
   "cell_type": "code",
   "execution_count": 15,
   "id": "b5f0c6cf",
   "metadata": {},
   "outputs": [
    {
     "data": {
      "text/plain": [
       "'How did you hear about us?\\n                  \\n                    Google\\n                  \\n                    Facebook\\n                  \\n                    Instagram\\n                  \\n                    Other\\n                  \\n                  \\n                '"
      ]
     },
     "execution_count": 15,
     "metadata": {},
     "output_type": "execute_result"
    }
   ],
   "source": [
    "hear_button.text"
   ]
  },
  {
   "cell_type": "code",
   "execution_count": 16,
   "id": "26b1c0d6",
   "metadata": {},
   "outputs": [],
   "source": [
    "hear_button1=hear_button.find_elements(By.TAG_NAME,'option')"
   ]
  },
  {
   "cell_type": "code",
   "execution_count": 17,
   "id": "801e97d5",
   "metadata": {},
   "outputs": [],
   "source": [
    "hear_button1[1].click()"
   ]
  },
  {
   "cell_type": "code",
   "execution_count": 18,
   "id": "319eebb0",
   "metadata": {},
   "outputs": [],
   "source": [
    "friends_form=driver.find_element(By.TAG_NAME,'fieldset')"
   ]
  },
  {
   "cell_type": "code",
   "execution_count": 23,
   "id": "9649c62d",
   "metadata": {},
   "outputs": [],
   "source": [
    "last_option_friends_form=form_element.find_element(By.XPATH,'//input[@value=\"2\"]')"
   ]
  },
  {
   "cell_type": "code",
   "execution_count": 24,
   "id": "51042049",
   "metadata": {},
   "outputs": [],
   "source": [
    "last_option_friends_form.click()"
   ]
  },
  {
   "cell_type": "code",
   "execution_count": 25,
   "id": "fe454476",
   "metadata": {},
   "outputs": [],
   "source": [
    "submit_option=form_element.find_element(By.XPATH,'/html/body/div/div[3]/main/div/div[4]/div/div/div/div/div/div/div[2]/div/div/div/form/div[2]/input')"
   ]
  },
  {
   "cell_type": "code",
   "execution_count": 26,
   "id": "00b5cc6e",
   "metadata": {},
   "outputs": [],
   "source": [
    "submit_option.click()"
   ]
  },
  {
   "cell_type": "code",
   "execution_count": null,
   "id": "ad9db5ec",
   "metadata": {},
   "outputs": [],
   "source": []
  }
 ],
 "metadata": {
  "kernelspec": {
   "display_name": "Python 3 (ipykernel)",
   "language": "python",
   "name": "python3"
  },
  "language_info": {
   "codemirror_mode": {
    "name": "ipython",
    "version": 3
   },
   "file_extension": ".py",
   "mimetype": "text/x-python",
   "name": "python",
   "nbconvert_exporter": "python",
   "pygments_lexer": "ipython3",
   "version": "3.9.7"
  }
 },
 "nbformat": 4,
 "nbformat_minor": 5
}
